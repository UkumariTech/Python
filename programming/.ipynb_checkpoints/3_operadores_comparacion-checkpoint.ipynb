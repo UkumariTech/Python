{
 "cells": [
  {
   "cell_type": "markdown",
   "id": "17fc928e",
   "metadata": {},
   "source": [
    "# Operadores de comparación"
   ]
  },
  {
   "cell_type": "markdown",
   "id": "30e98e1b",
   "metadata": {},
   "source": [
    "El resultado que dan estos operadores es 'True' o 'False'\n",
    "1. **Igualdad: ==**\n",
    "2. **Desigualdad: !=** \n",
    "3. **Mayor o Mayor igual que: >, >=**\n",
    "4. **Menor o menor igual que: <, <=**"
   ]
  },
  {
   "cell_type": "code",
   "execution_count": 1,
   "id": "228dc39e",
   "metadata": {},
   "outputs": [
    {
     "name": "stdout",
     "output_type": "stream",
     "text": [
      "True\n",
      "False\n"
     ]
    }
   ],
   "source": [
    "# igualdad\n",
    "print( 2 == 2 ) # resulta 'True' \n",
    "print( 3== 2 ) # resulta 'False'"
   ]
  },
  {
   "cell_type": "code",
   "execution_count": 2,
   "id": "23f62a87",
   "metadata": {},
   "outputs": [
    {
     "name": "stdout",
     "output_type": "stream",
     "text": [
      "False\n",
      "True\n"
     ]
    }
   ],
   "source": [
    "# Desigualdad\n",
    "print( 3 != 3 ) # resulta 'False'\n",
    "print( 5 != 6 ) # resulta 'True'"
   ]
  },
  {
   "cell_type": "code",
   "execution_count": 3,
   "id": "27997a21",
   "metadata": {},
   "outputs": [
    {
     "name": "stdout",
     "output_type": "stream",
     "text": [
      "True\n",
      "True\n"
     ]
    }
   ],
   "source": [
    "# Mayor o Mayor igual que\n",
    "print ( 5 > 3) # Resulta 'True'\n",
    "print( 7 >= 7 ) # resulta 'True'"
   ]
  },
  {
   "cell_type": "code",
   "execution_count": 4,
   "id": "7d21288a",
   "metadata": {},
   "outputs": [
    {
     "name": "stdout",
     "output_type": "stream",
     "text": [
      "False\n",
      "True\n"
     ]
    }
   ],
   "source": [
    "# Menor o menor igual que\n",
    "print( 7 < 4 ) # resulta 'false'\n",
    "print( 4 <= 8 ) # resulta 'true'"
   ]
  }
 ],
 "metadata": {
  "kernelspec": {
   "display_name": "Python 3 (ipykernel)",
   "language": "python",
   "name": "python3"
  },
  "language_info": {
   "codemirror_mode": {
    "name": "ipython",
    "version": 3
   },
   "file_extension": ".py",
   "mimetype": "text/x-python",
   "name": "python",
   "nbconvert_exporter": "python",
   "pygments_lexer": "ipython3",
   "version": "3.10.9"
  }
 },
 "nbformat": 4,
 "nbformat_minor": 5
}
