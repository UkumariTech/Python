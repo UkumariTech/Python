{
 "cells": [
  {
   "cell_type": "markdown",
   "id": "25858aca",
   "metadata": {},
   "source": [
    "# OPERADORES ARITMÉTICOS"
   ]
  },
  {
   "cell_type": "markdown",
   "id": "36905129",
   "metadata": {},
   "source": [
    "**Exponenciación**-> se usa doble asterisco ** "
   ]
  },
  {
   "cell_type": "code",
   "execution_count": 1,
   "id": "6a4b592f",
   "metadata": {},
   "outputs": [
    {
     "name": "stdout",
     "output_type": "stream",
     "text": [
      "25\n"
     ]
    }
   ],
   "source": [
    "# exponenciación \n",
    "print( 5 ** 2 ) # 5 ** 2 = 25"
   ]
  },
  {
   "attachments": {},
   "cell_type": "markdown",
   "id": "fd41a991",
   "metadata": {},
   "source": [
    "**División**\n",
    "1. División: se usa una **barra lateral: /**\n",
    "2. División entera: se usas dos **barras laterales: //** \n",
    "   14 // 4 = 3. Toma la parte entera del **cociente**\n",
    "3. Módulo (residuo): se usa el **símbolo de porcentaje: %**\n",
    "   14 % 4 = 2. Toma el **resto** de la división"
   ]
  },
  {
   "cell_type": "code",
   "execution_count": 16,
   "id": "e9c01dad",
   "metadata": {},
   "outputs": [
    {
     "name": "stdout",
     "output_type": "stream",
     "text": [
      "1. División 14 / 4 =  3.5\n",
      "2. División entera 14 // 4 =  3\n",
      "3. Módulo 14 % 4 =  2\n"
     ]
    }
   ],
   "source": [
    "print('1. División 14 / 4 = ', 14 / 4)\n",
    "print('2. División entera 14 // 4 = ', 14 // 4)\n",
    "print('3. Módulo 14 % 4 = ', 14 % 4)"
   ]
  },
  {
   "cell_type": "markdown",
   "id": "c2f0257c",
   "metadata": {},
   "source": [
    "**Operadores abreviados:** a = a + 1 --> a+=1"
   ]
  },
  {
   "cell_type": "code",
   "execution_count": 15,
   "id": "4ac82617",
   "metadata": {},
   "outputs": [
    {
     "name": "stdout",
     "output_type": "stream",
     "text": [
      "i = i + 2 * j da:  44 y es igual a la abreviación i += 2 * j que da:  44\n"
     ]
    }
   ],
   "source": [
    "# se asignan valores a las siguientes variables:\n",
    "i = 2\n",
    "j = 21\n",
    "\n",
    "# i = i + 2 * j -- abreviación -- i += 2 * j\n",
    "i = i + 2 * j\n",
    "print('i = i + 2 * j da: ', i, 'y es igual a', end=\" \")\n",
    "i=0 # se vuelva cero y no guarde el resultado anterior\n",
    "i = 2 # se le da nuevo el valor inicial\n",
    "i += 2 * j # += deben estar unidos/juntos o genera error\n",
    "print('la abreviación i += 2 * j que da: ',i)\n"
   ]
  },
  {
   "cell_type": "markdown",
   "id": "86823368",
   "metadata": {},
   "source": [
    "otras abreviaciones:\n",
    "1. k = k/2 --> k /= 2\n",
    "2. x = x % 2 --> x %= 2\n",
    "3. y=y(i + k + x) --> y -= (i + k + x)\n",
    "4. a = a ** 2 --> a **= 2\n",
    "5. b = b + 1 --> b += 1 --> la usada en contadores"
   ]
  }
 ],
 "metadata": {
  "kernelspec": {
   "display_name": "Python 3 (ipykernel)",
   "language": "python",
   "name": "python3"
  },
  "language_info": {
   "codemirror_mode": {
    "name": "ipython",
    "version": 3
   },
   "file_extension": ".py",
   "mimetype": "text/x-python",
   "name": "python",
   "nbconvert_exporter": "python",
   "pygments_lexer": "ipython3",
   "version": "3.10.9"
  }
 },
 "nbformat": 4,
 "nbformat_minor": 5
}
