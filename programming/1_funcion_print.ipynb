{
 "cells": [
  {
   "cell_type": "markdown",
   "id": "ee8719ec",
   "metadata": {},
   "source": [
    "# FUNCIÓN PRINT"
   ]
  },
  {
   "cell_type": "markdown",
   "id": "dd89c4d9",
   "metadata": {},
   "source": [
    "---> nombreFuncion(**argumento**): *print*(**argumento**) "
   ]
  },
  {
   "cell_type": "code",
   "execution_count": 1,
   "id": "03a4ca74",
   "metadata": {},
   "outputs": [
    {
     "name": "stdout",
     "output_type": "stream",
     "text": [
      "Ukumari Tech\n"
     ]
    }
   ],
   "source": [
    "print('Ukumari Tech') # --> Se usa comillas (simples o dobles) para imprimir texto"
   ]
  },
  {
   "cell_type": "code",
   "execution_count": 2,
   "id": "078e3cf5",
   "metadata": {},
   "outputs": [
    {
     "name": "stdout",
     "output_type": "stream",
     "text": [
      "Ukumari\n",
      "\n",
      "Tech\n"
     ]
    }
   ],
   "source": [
    "print('Ukumari')\n",
    "print('') # se crea un espacio en blanco\n",
    "print('Tech')"
   ]
  },
  {
   "cell_type": "markdown",
   "id": "af9b592a",
   "metadata": {},
   "source": [
    "Salto de línea usando: \\n"
   ]
  },
  {
   "cell_type": "code",
   "execution_count": 4,
   "id": "cf18a8cc",
   "metadata": {},
   "outputs": [
    {
     "name": "stdout",
     "output_type": "stream",
     "text": [
      "Soy de Huaquillas: \n",
      "Ecuador\n"
     ]
    }
   ],
   "source": [
    "print('Soy de Huaquillas: \\nEcuador') # junto \\n 'Ecuador' se imprime en la siguiente línea"
   ]
  },
  {
   "cell_type": "markdown",
   "id": "8110f767",
   "metadata": {},
   "source": [
    "Operaciones matemáticas en el argumento"
   ]
  },
  {
   "cell_type": "code",
   "execution_count": 3,
   "id": "c4fb09a0",
   "metadata": {},
   "outputs": [
    {
     "name": "stdout",
     "output_type": "stream",
     "text": [
      "5 + 7 =  12\n",
      "5 - 7 =  -2\n",
      "5 * 7 =  35\n",
      "5 / 7 =  0.7142857142857143\n"
     ]
    }
   ],
   "source": [
    "print('5 + 7 = ',5+7)\n",
    "print('5 - 7 = ',5-7)\n",
    "print('5 * 7 = ',5*7)\n",
    "print('5 / 7 = ',5/7)"
   ]
  },
  {
   "cell_type": "code",
   "execution_count": null,
   "id": "09f6b761",
   "metadata": {},
   "outputs": [],
   "source": []
  },
  {
   "cell_type": "markdown",
   "id": "d1ac6420",
   "metadata": {},
   "source": [
    "**Argumentos de palabras clave**\n",
    "1. end\n",
    "2. sep"
   ]
  },
  {
   "cell_type": "code",
   "execution_count": 6,
   "id": "e5eaa8ca",
   "metadata": {},
   "outputs": [
    {
     "name": "stdout",
     "output_type": "stream",
     "text": [
      "1 Huaquillas pertenece a la provincia \"El Oro\"\n",
      "2 Huaquillas pertenece a la provincia: El Oro\n"
     ]
    }
   ],
   "source": [
    "# end=\" \" permite unir la siguiente Fprint() a la actual\n",
    "print('1 Huaquillas pertenece a', end=\" \") \n",
    "print('la provincia \"El Oro\"')\n",
    "#end=\" \" crea una sepación. También se puede agregar ':'\n",
    "print('2 Huaquillas pertenece a la provincia', end=\": \") \n",
    "print('El Oro')"
   ]
  },
  {
   "cell_type": "code",
   "execution_count": 7,
   "id": "eaad517b",
   "metadata": {},
   "outputs": [
    {
     "name": "stdout",
     "output_type": "stream",
     "text": [
      "Argumento-palabras-claves\n",
      "Ukumari**Tech**Ecuador\n"
     ]
    }
   ],
   "source": [
    "# sep=\"-\" permite que entre palabras exista un *separador* como - * + /\n",
    "print('Argumento','palabras','claves', sep=\"-\") # Las palabras deben ir separadas por comas\n",
    "print('Ukumari','Tech','Ecuador',sep=\"**\")"
   ]
  },
  {
   "cell_type": "code",
   "execution_count": 10,
   "id": "d2dfb535",
   "metadata": {},
   "outputs": [
    {
     "name": "stdout",
     "output_type": "stream",
     "text": [
      "3era_versión_python+en*jupyter*notebook\n"
     ]
    }
   ],
   "source": [
    "# Argumentos claves en una sola invocación\n",
    "print('3era', 'versión','python', sep=\"_\",end=\"+\")\n",
    "print('en', 'jupyter','notebook', sep=\"*\")"
   ]
  },
  {
   "cell_type": "code",
   "execution_count": null,
   "id": "c9d7ac63",
   "metadata": {},
   "outputs": [],
   "source": []
  },
  {
   "cell_type": "code",
   "execution_count": null,
   "id": "9fa12ad1",
   "metadata": {},
   "outputs": [],
   "source": []
  }
 ],
 "metadata": {
  "kernelspec": {
   "display_name": "Python 3 (ipykernel)",
   "language": "python",
   "name": "python3"
  },
  "language_info": {
   "codemirror_mode": {
    "name": "ipython",
    "version": 3
   },
   "file_extension": ".py",
   "mimetype": "text/x-python",
   "name": "python",
   "nbconvert_exporter": "python",
   "pygments_lexer": "ipython3",
   "version": "3.10.9"
  }
 },
 "nbformat": 4,
 "nbformat_minor": 5
}
